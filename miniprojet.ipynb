{
 "cells": [
  {
   "cell_type": "markdown",
   "id": "02f5240a-e773-487c-a562-2027efe70233",
   "metadata": {},
   "source": [
    "IA & Data science (LU3IN0226) -- 2024-2025\n",
    "--------\n",
    "*&copy; Equipe pédagogique: Christophe Marsala, Olivier Schwander, Jean-Noël Vittaut.*\n"
   ]
  },
  {
   "cell_type": "markdown",
   "id": "50018277-b782-446f-9446-0a7163f25315",
   "metadata": {},
   "source": [
    "# Mini-projet final"
   ]
  },
  {
   "cell_type": "markdown",
   "id": "d00a8643-d3b4-42dd-acdf-31e374f15db6",
   "metadata": {},
   "source": [
    "<font size=\"+1\" color=\"RED\">**[Q]**</font> **Indiquer dans la boîte ci-dessous vos noms et prénoms :**"
   ]
  },
  {
   "cell_type": "markdown",
   "id": "4b7f75b3-b8fe-4c1e-a5b4-693fb90bc1c6",
   "metadata": {},
   "source": [
    "FABRICI-LOURENCO Tifenn  \n",
    "DELAYE-MAILLOT Kyllian"
   ]
  },
  {
   "cell_type": "markdown",
   "id": "f770d35b-fb4c-42ea-8f57-48921b2b82a5",
   "metadata": {},
   "source": [
    "Ce projet peut être fait en binôme (et c'est fortement conseillé) ou tout seul.\n",
    "\n",
    "Le nom de chaque membre du binôme doit être indiqué, et <u>**un seul rendu sur un des deux comptes Moodle doit être fait**</u>.\n",
    "\n",
    "Les groupes de plus de 2 personnes ne sont pas autorisés.\n",
    "\n",
    "**La dernière séance de TD-TME11 de votre groupe sera réservée pour travailler sur ce mini-projet.**"
   ]
  },
  {
   "cell_type": "markdown",
   "id": "2efc44f2-00f2-4679-b0c1-ea4366a6ad80",
   "metadata": {},
   "source": [
    "<font color=\"RED\" size=\"+1\"><b>[Q]</b></font> **Renommer ce fichier ipython**\n",
    "\n",
    "**Nom à donner au fichier à poster** : *projet-Nom1_Nom2.ipynb* \n",
    "- *Nom1* et *Nom2* : noms des membres du binôme\n",
    "- ne pas compresser ou faire une archive: il faut rendre le fichier ipython tel quel, éventuellement, si vous avez d'autres fichiers vous les rendez séparément.\n",
    "\n",
    "**Le compte-rendu est soumis sur la page Moodle.**"
   ]
  },
  {
   "cell_type": "markdown",
   "id": "dcb05912-5ec9-4635-83b9-f056a3429361",
   "metadata": {},
   "source": [
    "# Projet 2 - avril-mai 2025\n",
    "\n",
    "\n",
    "<font size=\"+1\" color=\"RED\"><b>Date de rendu : au plus tard le lundi 19 mai 2025, avant 11h</b></font>\n",
    "    \n",
    "<b>Attention! le site Moodle ferme à 11h pile !</b> prévoyez de vous y connecter au moins 15mn avant la fermeture...\n",
    "<b>Il n'y aura pas de prolongation possible.</b>\n",
    "\n",
    "Vous devez compléter ce notebook en rajoutant vos expérimentations avec vos algorithmes d'apprentissage sur les données fournies dans le répertoire `data`.\n",
    "\n"
   ]
  },
  {
   "cell_type": "markdown",
   "id": "55ad36e1-f91f-41a8-bea8-da028d30e6c4",
   "metadata": {},
   "source": [
    "## Travail à faire\n",
    "\n",
    "Appliquer les algorithmes d'apprentissage vus en cours sur les données comme décrit ci-dessous afin de mettre en évidence des résultats intéressants.\n",
    "\n",
    "\n",
    "## Compte-rendu demandé\n",
    "Ce qui doit être remis avant la date limite : un fichier archive (`.tar`, `.tgz`, ou `.zip` uniquement) contenant:\n",
    "- ce **notebook** complété. Il doit pouvoir être exécuté sans autre apport (pensez à vous en assurer avant de le rendre). \n",
    "- votre **librairie iads** sous la forme d'une archive avec votre répertoire `iads/` contenant tous les fichiers nécessaires \n",
    "- un **poster** sous la forme d'un fichier PDF dont le nom est de la forme: *tme11-Nom1_Nom2.pdf* qui correspond à un poster décrivant l'ensemble des expérimentations menées et les résultats obtenus.\n",
    "\n",
    "\n",
    "<b>IMPORTANT</b>: \n",
    "- Les <u>fichiers de données ne doivent pas être inclus dans votre archive</u> ! \n",
    "- Pensez à vérifier que votre archive contient bien tous les fichiers demandés et **seulement** les fichiers demandés.\n",
    "- **Tous les fichiers demandés doivent être soumis avant la date limite*, le jour de la soutenance, vous pourrez fournir des versions (légèrement) modifiées.\n",
    "\n",
    "## Soutenance des projets\n",
    "La soutenance aura lieu le <font size=\"+1\" color=\"RED\">**mardi 20 mai 2025**</font>, à partir de 9h. Un ordre de passage ainsi que la salle de TME où aura lieu les soutenances seront affichées sur le Moodle la veille (la remise d'un compte-rendu avant lundi 19 mai 11h est obligatoire pour être autorisé à passer une soutenance).\n",
    "\n",
    "La <b>soutenance est obligatoire</b> : tout projet pour lequel une soutenance n'a pas eu lieu sera noté $0$.\n",
    "\n",
    "Modalités de la soutenance:\n",
    "- durée de la soutenance : 10 mn pour un binôme, 7 mn pour un monôme ;\n",
    "- elle a lieu devant un ordinateur avec le notebook et le poster comme support ;\n",
    "    - elle commence par une rapide présentation des expérimentations réalisées et résultats obtenus (max. 4 à 5mns)\n",
    "    - puis elle se poursuit par des questions posées individuellement aux membres du binômes sur les expériences ou le code python réalisé.\n",
    "- la note de soutenance est individuelle pour chaque membre d'un binôme.\n",
    "\n",
    "\n",
    "**Très important** : les fichiers de données doivent être placés de façon à respecter la structure de fichiers suivante :\n",
    "\n",
    "          --iads/\n",
    "              -- Classifiers.py\n",
    "              -- etc.\n",
    "          -- MiniProjet/\n",
    "              -- ce_notebook.ipynb\n",
    "\n",
    "Les données seront chargées par les commandes de chargement des données fournies dans ce notebook (ci-dessous).\n",
    "\n",
    "Dans le notebook que vous rendrez, le chargement des fichiers de données doit considérer cette arborescence.\n",
    "\n"
   ]
  },
  {
   "cell_type": "code",
   "execution_count": 40,
   "id": "64e0796c-a140-4bbf-a11a-58f40b9e0497",
   "metadata": {
    "ExecuteTime": {
     "end_time": "2025-05-03T18:43:45.602928Z",
     "start_time": "2025-05-03T18:43:45.024271Z"
    }
   },
   "outputs": [
    {
     "name": "stdout",
     "output_type": "stream",
     "text": [
      "The autoreload extension is already loaded. To reload it, use:\n",
      "  %reload_ext autoreload\n",
      "The autoreload extension is already loaded. To reload it, use:\n",
      "  %reload_ext autoreload\n"
     ]
    }
   ],
   "source": [
    "import string\n",
    "\n",
    "# Importation de librairies standards:\n",
    "import numpy as np\n",
    "import pandas as pd\n",
    "import matplotlib.pyplot as plt\n",
    "%matplotlib inline  \n",
    "\n",
    "# un nouvel import utile pour la 3D:\n",
    "from matplotlib import cm\n",
    "\n",
    "# Les instructions suivantes sont TRES utiles pour recharger automatiquement \n",
    "# le code modifié dans les librairies externes\n",
    "%load_ext autoreload\n",
    "%autoreload 2\n",
    "\n",
    "# Pour mesurer le temps\n",
    "import time\n",
    "\n",
    "# Importation de votre librairie iads:\n",
    "# La ligne suivante permet de préciser le chemin d'accès à la librairie iads\n",
    "import sys\n",
    "sys.path.append('../')   # iads doit être dans le répertoire père du répertoire courant !\n",
    "\n",
    "# Importation de la librairie iads\n",
    "import iads as iads\n",
    "\n",
    "# importation de Classifiers\n",
    "from iads import Classifiers as classif\n",
    "\n",
    "# importation de utils\n",
    "from iads import utils as ut\n",
    "\n",
    "# importation de evaluation\n",
    "from iads import evaluation as ev\n",
    "\n",
    "# importation de Clustering\n",
    "from iads import Clustering as clust\n",
    "\n",
    "# commande TRES utile pour recharger automatiquement le code que vous modifiez dans les modules\n",
    "%load_ext autoreload\n",
    "%autoreload 2"
   ]
  },
  {
   "cell_type": "markdown",
   "id": "ca98bdab-80fe-44a1-8057-d027925d8d0f",
   "metadata": {},
   "source": [
    "## Données pour le projet : 20newsgroups\n",
    "\n",
    "Les données sont fournies dans le fichier CSV `20newsgroups.csv` contenu dans l'archive. Une documentation sur ces données peut être consultée sur la <a href=\"http://qwone.com/~jason/20Newsgroups/\" target=\"NEW\">page ScikitLearn</a>.\n",
    "Ces données sont des dépêches issues de 20 groupes de discussions.\n"
   ]
  },
  {
   "cell_type": "markdown",
   "id": "6a483d33-8e89-4f7c-8525-5dfaae092e86",
   "metadata": {},
   "source": [
    "### Chargement des données"
   ]
  },
  {
   "cell_type": "code",
   "execution_count": 41,
   "id": "49b32889",
   "metadata": {
    "ExecuteTime": {
     "end_time": "2025-05-03T18:43:45.892056Z",
     "start_time": "2025-05-03T18:43:45.732467Z"
    }
   },
   "outputs": [
    {
     "name": "stdout",
     "output_type": "stream",
     "text": [
      "18846\n"
     ]
    },
    {
     "data": {
      "text/html": [
       "<div>\n",
       "<style scoped>\n",
       "    .dataframe tbody tr th:only-of-type {\n",
       "        vertical-align: middle;\n",
       "    }\n",
       "\n",
       "    .dataframe tbody tr th {\n",
       "        vertical-align: top;\n",
       "    }\n",
       "\n",
       "    .dataframe thead th {\n",
       "        text-align: right;\n",
       "    }\n",
       "</style>\n",
       "<table border=\"1\" class=\"dataframe\">\n",
       "  <thead>\n",
       "    <tr style=\"text-align: right;\">\n",
       "      <th></th>\n",
       "      <th>messages</th>\n",
       "      <th>target</th>\n",
       "    </tr>\n",
       "  </thead>\n",
       "  <tbody>\n",
       "    <tr>\n",
       "      <th>0</th>\n",
       "      <td>\\n\\nI am sure some bashers of Pens fans are pr...</td>\n",
       "      <td>10</td>\n",
       "    </tr>\n",
       "    <tr>\n",
       "      <th>1</th>\n",
       "      <td>My brother is in the market for a high-perform...</td>\n",
       "      <td>3</td>\n",
       "    </tr>\n",
       "    <tr>\n",
       "      <th>2</th>\n",
       "      <td>\\n\\n\\n\\n\\tFinally you said what you dream abou...</td>\n",
       "      <td>17</td>\n",
       "    </tr>\n",
       "    <tr>\n",
       "      <th>3</th>\n",
       "      <td>\\nThink!\\n\\nIt's the SCSI card doing the DMA t...</td>\n",
       "      <td>3</td>\n",
       "    </tr>\n",
       "    <tr>\n",
       "      <th>4</th>\n",
       "      <td>1)    I have an old Jasmine drive which I cann...</td>\n",
       "      <td>4</td>\n",
       "    </tr>\n",
       "    <tr>\n",
       "      <th>...</th>\n",
       "      <td>...</td>\n",
       "      <td>...</td>\n",
       "    </tr>\n",
       "    <tr>\n",
       "      <th>18841</th>\n",
       "      <td>DN&gt; From: nyeda@cnsvax.uwec.edu (David Nye)\\nD...</td>\n",
       "      <td>13</td>\n",
       "    </tr>\n",
       "    <tr>\n",
       "      <th>18842</th>\n",
       "      <td>\\nNot in isolated ground recepticles (usually ...</td>\n",
       "      <td>12</td>\n",
       "    </tr>\n",
       "    <tr>\n",
       "      <th>18843</th>\n",
       "      <td>I just installed a DX2-66 CPU in a clone mothe...</td>\n",
       "      <td>3</td>\n",
       "    </tr>\n",
       "    <tr>\n",
       "      <th>18844</th>\n",
       "      <td>\\nWouldn't this require a hyper-sphere.  In 3-...</td>\n",
       "      <td>1</td>\n",
       "    </tr>\n",
       "    <tr>\n",
       "      <th>18845</th>\n",
       "      <td>After a tip from Gary Crum (crum@fcom.cc.utah....</td>\n",
       "      <td>7</td>\n",
       "    </tr>\n",
       "  </tbody>\n",
       "</table>\n",
       "<p>18846 rows × 2 columns</p>\n",
       "</div>"
      ],
      "text/plain": [
       "                                                messages  target\n",
       "0      \\n\\nI am sure some bashers of Pens fans are pr...      10\n",
       "1      My brother is in the market for a high-perform...       3\n",
       "2      \\n\\n\\n\\n\\tFinally you said what you dream abou...      17\n",
       "3      \\nThink!\\n\\nIt's the SCSI card doing the DMA t...       3\n",
       "4      1)    I have an old Jasmine drive which I cann...       4\n",
       "...                                                  ...     ...\n",
       "18841  DN> From: nyeda@cnsvax.uwec.edu (David Nye)\\nD...      13\n",
       "18842  \\nNot in isolated ground recepticles (usually ...      12\n",
       "18843  I just installed a DX2-66 CPU in a clone mothe...       3\n",
       "18844  \\nWouldn't this require a hyper-sphere.  In 3-...       1\n",
       "18845  After a tip from Gary Crum (crum@fcom.cc.utah....       7\n",
       "\n",
       "[18846 rows x 2 columns]"
      ]
     },
     "execution_count": 41,
     "metadata": {},
     "output_type": "execute_result"
    }
   ],
   "source": [
    "newsgroups_df = pd.read_csv(\"data/20newsgroups.csv\")\n",
    "print(len(newsgroups_df))\n",
    "newsgroups_df"
   ]
  },
  {
   "cell_type": "markdown",
   "id": "d9453549-a545-468d-a0a9-0caa750630ea",
   "metadata": {},
   "source": [
    "### Prétraitement\n",
    "\n",
    "Dans un premier temps, vous devez appliquer les étapes de prétraitements vues dans le TME 6. Pour le nettoyage, la liste des mots inutiles (stopwords) est fournie dans le fichier `stopwords.csv` de l'archive"
   ]
  },
  {
   "cell_type": "code",
   "execution_count": 42,
   "id": "9462a8e5-061c-41ae-ad3e-16a95d84db64",
   "metadata": {
    "ExecuteTime": {
     "end_time": "2025-05-03T18:43:45.955786Z",
     "start_time": "2025-05-03T18:43:45.938876Z"
    }
   },
   "outputs": [
    {
     "data": {
      "text/html": [
       "<div>\n",
       "<style scoped>\n",
       "    .dataframe tbody tr th:only-of-type {\n",
       "        vertical-align: middle;\n",
       "    }\n",
       "\n",
       "    .dataframe tbody tr th {\n",
       "        vertical-align: top;\n",
       "    }\n",
       "\n",
       "    .dataframe thead th {\n",
       "        text-align: right;\n",
       "    }\n",
       "</style>\n",
       "<table border=\"1\" class=\"dataframe\">\n",
       "  <thead>\n",
       "    <tr style=\"text-align: right;\">\n",
       "      <th></th>\n",
       "      <th>stopword</th>\n",
       "    </tr>\n",
       "  </thead>\n",
       "  <tbody>\n",
       "    <tr>\n",
       "      <th>0</th>\n",
       "      <td>a</td>\n",
       "    </tr>\n",
       "    <tr>\n",
       "      <th>1</th>\n",
       "      <td>about</td>\n",
       "    </tr>\n",
       "    <tr>\n",
       "      <th>2</th>\n",
       "      <td>above</td>\n",
       "    </tr>\n",
       "    <tr>\n",
       "      <th>3</th>\n",
       "      <td>after</td>\n",
       "    </tr>\n",
       "    <tr>\n",
       "      <th>4</th>\n",
       "      <td>again</td>\n",
       "    </tr>\n",
       "    <tr>\n",
       "      <th>...</th>\n",
       "      <td>...</td>\n",
       "    </tr>\n",
       "    <tr>\n",
       "      <th>193</th>\n",
       "      <td>you're</td>\n",
       "    </tr>\n",
       "    <tr>\n",
       "      <th>194</th>\n",
       "      <td>yours</td>\n",
       "    </tr>\n",
       "    <tr>\n",
       "      <th>195</th>\n",
       "      <td>yourself</td>\n",
       "    </tr>\n",
       "    <tr>\n",
       "      <th>196</th>\n",
       "      <td>yourselves</td>\n",
       "    </tr>\n",
       "    <tr>\n",
       "      <th>197</th>\n",
       "      <td>you've</td>\n",
       "    </tr>\n",
       "  </tbody>\n",
       "</table>\n",
       "<p>198 rows × 1 columns</p>\n",
       "</div>"
      ],
      "text/plain": [
       "       stopword\n",
       "0             a\n",
       "1         about\n",
       "2         above\n",
       "3         after\n",
       "4         again\n",
       "..          ...\n",
       "193      you're\n",
       "194       yours\n",
       "195    yourself\n",
       "196  yourselves\n",
       "197      you've\n",
       "\n",
       "[198 rows x 1 columns]"
      ]
     },
     "execution_count": 42,
     "metadata": {},
     "output_type": "execute_result"
    }
   ],
   "source": [
    "stop_words_df = pd.read_csv(\"data/stopwords.csv\")\n",
    "stop_words_df"
   ]
  },
  {
   "cell_type": "markdown",
   "id": "5cabf183-5055-4a78-a485-34e57e33ad1d",
   "metadata": {},
   "source": [
    "## Tâches à réaliser"
   ]
  },
  {
   "cell_type": "markdown",
   "id": "b8a96998-c20b-4893-bb69-b5d0031474bb",
   "metadata": {},
   "source": [
    "### Apprentissage supervisé\n",
    "\n",
    "*Tâches*: évaluation d'algorithmes et de représentations des données.\n",
    "- classification binaire\n",
    "- classification multi-classe\n",
    "\n",
    "*Etudes suggérées*:\n",
    "- représentations des données\n",
    "    - avec ou sans suppression des stopwords\n",
    "    - différentes représentations: bag-of-words binaire, avec comptage, avec fréquences, avec tfidf\n",
    "- différents classifiers:\n",
    "    - perceptron,\n",
    "    - k-plus proches voisins avec distance euclidienne,\n",
    "    - k-plus proches voisins avec distance cosinus (cf. TD),\n",
    "    - Naives Bayes,\n",
    "    - arbres de décision\n",
    "- analyse des résultats:\n",
    "    - accuracy, temps d'exécutions\n",
    "    - score fold par fold\n",
    "    - matrice de confusion\n"
   ]
  },
  {
   "cell_type": "markdown",
   "id": "143ad533",
   "metadata": {},
   "source": [
    "### Apprentissage non-supervisé\n",
    "\n",
    "*Tâche*: vérifier que le découpage a du sens par rapport aux groupes fournis. \n",
    "\n",
    "*Etudes suggérées*:\n",
    "- étudier l'application d'un clustering hiérarchique et son résultat;\n",
    "- étudier les résultats de l'application de l'algorithme des k-moyennes, pour différentes valeurs de k;\n",
    "- proposer des évaluations des clusters trouvés afin de mettre en évidence les plus intéressants:\n",
    "    - en utilisant les indices d'évaluation présentés en cours;\n",
    "    - en comparant par diverses méthodes les clusters trouvés avec les vrais labels des classes (targets y).\n",
    "- proposer une visualisation des résultats obtenus\n",
    "\n",
    "\n",
    "   \n"
   ]
  },
  {
   "cell_type": "markdown",
   "id": "7a907d27",
   "metadata": {},
   "source": [
    "## Poster à rendre dans le compte-rendu (format PDF)\n",
    "\n",
    "Votre poster doit décrire de façon synthétique **l'ensemble des expérimentations** menées sur les données, les résultats obtenus en apprentissage supervisé et en apprentissage non-supervisé ainsi que les conclusions/bilans que vous tirez de ces expérimentations (ie. ce que vous avez appris sur ces données).\n",
    "\n",
    "*Remarque*: vous devez indiquer vos noms/prénoms et groupe (1, 2, ou 3) sur le poster.\n"
   ]
  },
  {
   "cell_type": "markdown",
   "id": "1bc4caeb85826c0c",
   "metadata": {},
   "source": [
    "# Mini-Projet"
   ]
  },
  {
   "cell_type": "markdown",
   "id": "80bf0ebf0526571d",
   "metadata": {},
   "source": [
    "## Pré-traitement des données"
   ]
  },
  {
   "cell_type": "markdown",
   "id": "10c04d4a9b3e1bb1",
   "metadata": {},
   "source": [
    "On commence par enlever les exemples avec message manquant.\n",
    "Puis on met la version nettoyée de chaque message dans une nouvelle colonne *mots*"
   ]
  },
  {
   "cell_type": "code",
   "execution_count": 43,
   "id": "2fe40605031aeee2",
   "metadata": {
    "ExecuteTime": {
     "end_time": "2025-05-03T18:43:55.428668Z",
     "start_time": "2025-05-03T18:43:46.024030Z"
    }
   },
   "outputs": [
    {
     "data": {
      "text/html": [
       "<div>\n",
       "<style scoped>\n",
       "    .dataframe tbody tr th:only-of-type {\n",
       "        vertical-align: middle;\n",
       "    }\n",
       "\n",
       "    .dataframe tbody tr th {\n",
       "        vertical-align: top;\n",
       "    }\n",
       "\n",
       "    .dataframe thead th {\n",
       "        text-align: right;\n",
       "    }\n",
       "</style>\n",
       "<table border=\"1\" class=\"dataframe\">\n",
       "  <thead>\n",
       "    <tr style=\"text-align: right;\">\n",
       "      <th></th>\n",
       "      <th>messages</th>\n",
       "      <th>target</th>\n",
       "      <th>mots</th>\n",
       "    </tr>\n",
       "  </thead>\n",
       "  <tbody>\n",
       "    <tr>\n",
       "      <th>0</th>\n",
       "      <td>\\n\\nI am sure some bashers of Pens fans are pr...</td>\n",
       "      <td>10</td>\n",
       "      <td>[sure, bashers, pens, fans, pretty, confused, ...</td>\n",
       "    </tr>\n",
       "    <tr>\n",
       "      <th>1</th>\n",
       "      <td>My brother is in the market for a high-perform...</td>\n",
       "      <td>3</td>\n",
       "      <td>[brother, market, high, performance, video, ca...</td>\n",
       "    </tr>\n",
       "    <tr>\n",
       "      <th>3</th>\n",
       "      <td>\\nThink!\\n\\nIt's the SCSI card doing the DMA t...</td>\n",
       "      <td>3</td>\n",
       "      <td>[think, scsi, card, dma, transfers, disks, scs...</td>\n",
       "    </tr>\n",
       "    <tr>\n",
       "      <th>7</th>\n",
       "      <td>\\n[stuff deleted]\\n\\nOk, here's the solution t...</td>\n",
       "      <td>10</td>\n",
       "      <td>[stuff, deleted, ok, here's, solution, problem...</td>\n",
       "    </tr>\n",
       "    <tr>\n",
       "      <th>8</th>\n",
       "      <td>\\n\\n\\nYeah, it's the second one.  And I believ...</td>\n",
       "      <td>10</td>\n",
       "      <td>[yeah, second, one, believe, price, trying, ge...</td>\n",
       "    </tr>\n",
       "    <tr>\n",
       "      <th>...</th>\n",
       "      <td>...</td>\n",
       "      <td>...</td>\n",
       "      <td>...</td>\n",
       "    </tr>\n",
       "    <tr>\n",
       "      <th>18831</th>\n",
       "      <td>Hello,\\n\\n    I am having a small problem with...</td>\n",
       "      <td>3</td>\n",
       "      <td>[hello, small, problem, sound, blaster, pro, g...</td>\n",
       "    </tr>\n",
       "    <tr>\n",
       "      <th>18832</th>\n",
       "      <td>\\nI am asking you to believe in things not vis...</td>\n",
       "      <td>15</td>\n",
       "      <td>[asking, believe, things, visible, know, belie...</td>\n",
       "    </tr>\n",
       "    <tr>\n",
       "      <th>18837</th>\n",
       "      <td>\\nAnd won't they have to change their name to ...</td>\n",
       "      <td>10</td>\n",
       "      <td>[change, name, steelers, something, significan...</td>\n",
       "    </tr>\n",
       "    <tr>\n",
       "      <th>18839</th>\n",
       "      <td>\\n[bible verses ag./ used ag. homosexuality de...</td>\n",
       "      <td>15</td>\n",
       "      <td>[bible, verses, ag, used, ag, homosexuality, d...</td>\n",
       "    </tr>\n",
       "    <tr>\n",
       "      <th>18843</th>\n",
       "      <td>I just installed a DX2-66 CPU in a clone mothe...</td>\n",
       "      <td>3</td>\n",
       "      <td>[installed, dx2, 66, cpu, clone, motherboard, ...</td>\n",
       "    </tr>\n",
       "  </tbody>\n",
       "</table>\n",
       "<p>2934 rows × 3 columns</p>\n",
       "</div>"
      ],
      "text/plain": [
       "                                                messages  target  \\\n",
       "0      \\n\\nI am sure some bashers of Pens fans are pr...      10   \n",
       "1      My brother is in the market for a high-perform...       3   \n",
       "3      \\nThink!\\n\\nIt's the SCSI card doing the DMA t...       3   \n",
       "7      \\n[stuff deleted]\\n\\nOk, here's the solution t...      10   \n",
       "8      \\n\\n\\nYeah, it's the second one.  And I believ...      10   \n",
       "...                                                  ...     ...   \n",
       "18831  Hello,\\n\\n    I am having a small problem with...       3   \n",
       "18832  \\nI am asking you to believe in things not vis...      15   \n",
       "18837  \\nAnd won't they have to change their name to ...      10   \n",
       "18839  \\n[bible verses ag./ used ag. homosexuality de...      15   \n",
       "18843  I just installed a DX2-66 CPU in a clone mothe...       3   \n",
       "\n",
       "                                                    mots  \n",
       "0      [sure, bashers, pens, fans, pretty, confused, ...  \n",
       "1      [brother, market, high, performance, video, ca...  \n",
       "3      [think, scsi, card, dma, transfers, disks, scs...  \n",
       "7      [stuff, deleted, ok, here's, solution, problem...  \n",
       "8      [yeah, second, one, believe, price, trying, ge...  \n",
       "...                                                  ...  \n",
       "18831  [hello, small, problem, sound, blaster, pro, g...  \n",
       "18832  [asking, believe, things, visible, know, belie...  \n",
       "18837  [change, name, steelers, something, significan...  \n",
       "18839  [bible, verses, ag, used, ag, homosexuality, d...  \n",
       "18843  [installed, dx2, 66, cpu, clone, motherboard, ...  \n",
       "\n",
       "[2934 rows x 3 columns]"
      ]
     },
     "execution_count": 43,
     "metadata": {},
     "output_type": "execute_result"
    }
   ],
   "source": [
    "data = newsgroups_df.dropna().copy()\n",
    "data = data[data[\"target\"].isin([3, 10, 15])]\n",
    "data[\"mots\"] = data[\"messages\"].map(lambda msg : ut.text2vect(msg, stop_words_df[\"stopword\"].values))\n",
    "len(data)\n",
    "data"
   ]
  },
  {
   "cell_type": "markdown",
   "id": "1012cbddfdac5934",
   "metadata": {},
   "source": [
    "Puis on va prendre un échantillon d'environ 5000 exemples car 20000 c'est beaucoup trop grand pour nos machines."
   ]
  },
  {
   "cell_type": "code",
   "execution_count": 44,
   "id": "9fdf766e0fd436b7",
   "metadata": {
    "ExecuteTime": {
     "end_time": "2025-05-03T18:45:58.332846Z",
     "start_time": "2025-05-03T18:45:58.302916Z"
    }
   },
   "outputs": [
    {
     "name": "stdout",
     "output_type": "stream",
     "text": [
      "1998\n"
     ]
    },
    {
     "data": {
      "text/html": [
       "<div>\n",
       "<style scoped>\n",
       "    .dataframe tbody tr th:only-of-type {\n",
       "        vertical-align: middle;\n",
       "    }\n",
       "\n",
       "    .dataframe tbody tr th {\n",
       "        vertical-align: top;\n",
       "    }\n",
       "\n",
       "    .dataframe thead th {\n",
       "        text-align: right;\n",
       "    }\n",
       "</style>\n",
       "<table border=\"1\" class=\"dataframe\">\n",
       "  <thead>\n",
       "    <tr style=\"text-align: right;\">\n",
       "      <th></th>\n",
       "      <th>messages</th>\n",
       "      <th>target</th>\n",
       "      <th>mots</th>\n",
       "    </tr>\n",
       "  </thead>\n",
       "  <tbody>\n",
       "    <tr>\n",
       "      <th>15464</th>\n",
       "      <td>Here are some notes about what the church is t...</td>\n",
       "      <td>15</td>\n",
       "      <td>[notes, church, like, helpful, ideas, choose, ...</td>\n",
       "    </tr>\n",
       "    <tr>\n",
       "      <th>6782</th>\n",
       "      <td>\\nPierre Turgeon of NYI, and Paul Coffey of De...</td>\n",
       "      <td>10</td>\n",
       "      <td>[pierre, turgeon, nyi, paul, coffey, detorit, ...</td>\n",
       "    </tr>\n",
       "    <tr>\n",
       "      <th>14549</th>\n",
       "      <td>Andrew,\\nYou can get the heat sinks at Digi-Ke...</td>\n",
       "      <td>3</td>\n",
       "      <td>[andrew, get, heat, sinks, digi, key, 1, 800, ...</td>\n",
       "    </tr>\n",
       "    <tr>\n",
       "      <th>11780</th>\n",
       "      <td>\\n\\nThe USA Today says \"late this year\".  The ...</td>\n",
       "      <td>10</td>\n",
       "      <td>[usa, today, says, late, year, question, hocke...</td>\n",
       "    </tr>\n",
       "    <tr>\n",
       "      <th>6613</th>\n",
       "      <td>\\n\\nMaine 5, LSSU 4.\\n\\n</td>\n",
       "      <td>10</td>\n",
       "      <td>[maine, 5, lssu, 4]</td>\n",
       "    </tr>\n",
       "    <tr>\n",
       "      <th>...</th>\n",
       "      <td>...</td>\n",
       "      <td>...</td>\n",
       "      <td>...</td>\n",
       "    </tr>\n",
       "    <tr>\n",
       "      <th>16513</th>\n",
       "      <td>\\nHe appears to have believed that.  He had a ...</td>\n",
       "      <td>15</td>\n",
       "      <td>[appears, believed, view, condemned, conciliar...</td>\n",
       "    </tr>\n",
       "    <tr>\n",
       "      <th>7302</th>\n",
       "      <td>\\nI bet it suddenly started sticking when you ...</td>\n",
       "      <td>3</td>\n",
       "      <td>[bet, suddenly, started, sticking, started, le...</td>\n",
       "    </tr>\n",
       "    <tr>\n",
       "      <th>4323</th>\n",
       "      <td>\\n\\n\\nYes, I suppose that's true.  Of course, ...</td>\n",
       "      <td>15</td>\n",
       "      <td>[yes, suppose, that's, true, course, notice, q...</td>\n",
       "    </tr>\n",
       "    <tr>\n",
       "      <th>12242</th>\n",
       "      <td>\\nMaybe you should dig a little further Charle...</td>\n",
       "      <td>15</td>\n",
       "      <td>[maybe, dig, little, charles, hislop's, schola...</td>\n",
       "    </tr>\n",
       "    <tr>\n",
       "      <th>18631</th>\n",
       "      <td>: \\n: In the NT, the clear references are all ...</td>\n",
       "      <td>15</td>\n",
       "      <td>[nt, clear, references, paul's, letters, rom, ...</td>\n",
       "    </tr>\n",
       "  </tbody>\n",
       "</table>\n",
       "<p>1998 rows × 3 columns</p>\n",
       "</div>"
      ],
      "text/plain": [
       "                                                messages  target  \\\n",
       "15464  Here are some notes about what the church is t...      15   \n",
       "6782   \\nPierre Turgeon of NYI, and Paul Coffey of De...      10   \n",
       "14549  Andrew,\\nYou can get the heat sinks at Digi-Ke...       3   \n",
       "11780  \\n\\nThe USA Today says \"late this year\".  The ...      10   \n",
       "6613                            \\n\\nMaine 5, LSSU 4.\\n\\n      10   \n",
       "...                                                  ...     ...   \n",
       "16513  \\nHe appears to have believed that.  He had a ...      15   \n",
       "7302   \\nI bet it suddenly started sticking when you ...       3   \n",
       "4323   \\n\\n\\nYes, I suppose that's true.  Of course, ...      15   \n",
       "12242  \\nMaybe you should dig a little further Charle...      15   \n",
       "18631  : \\n: In the NT, the clear references are all ...      15   \n",
       "\n",
       "                                                    mots  \n",
       "15464  [notes, church, like, helpful, ideas, choose, ...  \n",
       "6782   [pierre, turgeon, nyi, paul, coffey, detorit, ...  \n",
       "14549  [andrew, get, heat, sinks, digi, key, 1, 800, ...  \n",
       "11780  [usa, today, says, late, year, question, hocke...  \n",
       "6613                                 [maine, 5, lssu, 4]  \n",
       "...                                                  ...  \n",
       "16513  [appears, believed, view, condemned, conciliar...  \n",
       "7302   [bet, suddenly, started, sticking, started, le...  \n",
       "4323   [yes, suppose, that's, true, course, notice, q...  \n",
       "12242  [maybe, dig, little, charles, hislop's, schola...  \n",
       "18631  [nt, clear, references, paul's, letters, rom, ...  \n",
       "\n",
       "[1998 rows x 3 columns]"
      ]
     },
     "execution_count": 44,
     "metadata": {},
     "output_type": "execute_result"
    }
   ],
   "source": [
    "sampled_data = ut.sample_dataset(data, \"target\", 2000, seed=42)\n",
    "print(len(sampled_data))\n",
    "sampled_data"
   ]
  },
  {
   "cell_type": "markdown",
   "id": "c6bac76a",
   "metadata": {},
   "source": [
    "Nous stockons les labels (target) dans une variable dédiée."
   ]
  },
  {
   "cell_type": "code",
   "execution_count": 45,
   "id": "7073ed80",
   "metadata": {},
   "outputs": [],
   "source": [
    "labels = sampled_data['target'].unique()"
   ]
  },
  {
   "cell_type": "markdown",
   "id": "6f619cca",
   "metadata": {},
   "source": [
    "Nous allons maintenant séparer les données en deux parties : une partie d'apprentissage et une partie de test."
   ]
  },
  {
   "cell_type": "code",
   "execution_count": 46,
   "id": "aea836bc",
   "metadata": {},
   "outputs": [
    {
     "name": "stdout",
     "output_type": "stream",
     "text": [
      "Nombre d'exemples du label 15 pris pour apprendre: 133\n",
      "Nombre d'exemples du label 10 pris pour apprendre: 133\n",
      "Nombre d'exemples du label 3 pris pour apprendre: 132\n",
      "Dimension de df_train:\t(398, 3)\n",
      "Dimension de df_test:\t(1600, 3)\n"
     ]
    }
   ],
   "source": [
    "np.random.seed(42)\n",
    "\n",
    "# pourcentage d'exemples de chaque classe à garder:\n",
    "taux = 0.2    # ici on prend 5% \n",
    "\n",
    "# déclaration des variables qui seront initialisées dans la boucle:\n",
    "df_train = None  \n",
    "df_test = None\n",
    "for l in labels:\n",
    "    nb_total = sampled_data['target'].value_counts()[l]\n",
    "    nb_pris = int(nb_total*taux) \n",
    "    print(f\"Nombre d'exemples du label {l} pris pour apprendre: {nb_pris}\")\n",
    "\n",
    "    les_ids = sampled_data[sampled_data['target']==l].index.to_list()\n",
    "    np.random.shuffle(les_ids)\n",
    "\n",
    "    les_ids_train = les_ids[:nb_pris]\n",
    "    les_ids_test = les_ids[nb_pris:]\n",
    "\n",
    "    if df_train is None:\n",
    "        df_train = sampled_data.loc[les_ids_train]\n",
    "        df_test = sampled_data.loc[les_ids_test]\n",
    "    else:\n",
    "        df_train = pd.concat([df_train, sampled_data.loc[les_ids_train]])\n",
    "        df_test = pd.concat([df_test, sampled_data.loc[les_ids_test]])\n",
    "    \n",
    "# Résultat:\n",
    "print(f\"Dimension de df_train:\\t{df_train.shape}\")\n",
    "print(f\"Dimension de df_test:\\t{df_test.shape}\")"
   ]
  },
  {
   "cell_type": "markdown",
   "id": "e6d95919",
   "metadata": {},
   "source": [
    "À partir d'ici, nous allons travailler sur les données d'apprentissage."
   ]
  },
  {
   "cell_type": "code",
   "execution_count": 47,
   "id": "1bf7bbb0",
   "metadata": {},
   "outputs": [],
   "source": [
    "# Création de l'index des mots\n",
    "index_mots = []\n",
    "\n",
    "for lst in df_train[\"mots\"]:\n",
    "    for m in lst:\n",
    "        if not m in index_mots:\n",
    "            index_mots.append(m)\n",
    "\n",
    "index_mots.sort()"
   ]
  },
  {
   "cell_type": "markdown",
   "id": "7a40b82c489e112d",
   "metadata": {},
   "source": [
    "On dispose maintenant d'un échantillon propre pour travailler dessus"
   ]
  },
  {
   "cell_type": "code",
   "execution_count": 48,
   "id": "8bf97da4",
   "metadata": {},
   "outputs": [
    {
     "name": "stdout",
     "output_type": "stream",
     "text": [
      "Apprentissage terminé avec le classifieur des arbres numériques.\n"
     ]
    }
   ],
   "source": [
    "# Apprentissage avec le classifieur des arbres numériques\n",
    "classifier = classif.ClassifierArbreNumerique(\n",
    "    input_dimension=len(index_mots),\n",
    "    epsilon=0.01,\n",
    "    LNoms=index_mots,\n",
    ")\n",
    "\n",
    "# Ensure that the df2array function processes the data correctly\n",
    "mat_train = ut.df2array(df_train, \"mots\", index_mots)\n",
    "\n",
    "# Apprentissage du classifieur\n",
    "classifier.train(mat_train, df_train[\"target\"].to_numpy())\n",
    "\n",
    "# Affichage d'un message pour confirmer que l'apprentissage est terminé\n",
    "print(\"Apprentissage terminé avec le classifieur des arbres numériques.\")"
   ]
  },
  {
   "cell_type": "code",
   "execution_count": 49,
   "id": "f4cd1493e64770a9",
   "metadata": {
    "ExecuteTime": {
     "end_time": "2025-05-03T18:43:55.755172Z",
     "start_time": "2025-05-03T18:43:55.753064Z"
    }
   },
   "outputs": [
    {
     "name": "stdout",
     "output_type": "stream",
     "text": [
      "Accuracy sur l'ensemble d'apprentissage:\t0.9949748743718593\n",
      "Accuracy sur l'ensemble de test:\t0.781875\n"
     ]
    }
   ],
   "source": [
    "# Nous allons utiliser df_test pour tester le classifieur\n",
    "# On va d'abord le transformer en matrice\n",
    "mat_test = ut.df2array(df_test, \"mots\", index_mots)\n",
    "\n",
    "# On va ensuite tester l'accuracy du classifieur\n",
    "accuracy_train = classifier.accuracy(mat_train, df_train[\"target\"].to_numpy())\n",
    "accuracy_test = classifier.accuracy(mat_test, df_test[\"target\"].to_numpy())\n",
    "\n",
    "print(f\"Accuracy sur l'ensemble d'apprentissage:\\t{accuracy_train}\")\n",
    "print(f\"Accuracy sur l'ensemble de test:\\t{accuracy_test}\")"
   ]
  },
  {
   "cell_type": "markdown",
   "id": "2f6b0543",
   "metadata": {},
   "source": []
  }
 ],
 "metadata": {
  "kernelspec": {
   "display_name": "Python 3",
   "language": "python",
   "name": "python3"
  },
  "language_info": {
   "codemirror_mode": {
    "name": "ipython",
    "version": 3
   },
   "file_extension": ".py",
   "mimetype": "text/x-python",
   "name": "python",
   "nbconvert_exporter": "python",
   "pygments_lexer": "ipython3",
   "version": "3.12.10"
  }
 },
 "nbformat": 4,
 "nbformat_minor": 5
}
